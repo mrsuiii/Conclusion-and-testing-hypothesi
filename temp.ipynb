{
 "cells": [
  {
   "cell_type": "code",
   "execution_count": 5,
   "metadata": {},
   "outputs": [
    {
     "ename": "ModuleNotFoundError",
     "evalue": "No module named 'pandas'",
     "output_type": "error",
     "traceback": [
      "\u001b[1;31m---------------------------------------------------------------------------\u001b[0m",
      "\u001b[1;31mModuleNotFoundError\u001b[0m                       Traceback (most recent call last)",
      "Cell \u001b[1;32mIn[5], line 1\u001b[0m\n\u001b[1;32m----> 1\u001b[0m \u001b[38;5;28;01mimport\u001b[39;00m \u001b[38;5;21;01mpandas\u001b[39;00m \u001b[38;5;28;01mas\u001b[39;00m \u001b[38;5;21;01mpd\u001b[39;00m\n\u001b[0;32m      2\u001b[0m \u001b[38;5;28;01mimport\u001b[39;00m \u001b[38;5;21;01mnumpy\u001b[39;00m \u001b[38;5;28;01mas\u001b[39;00m \u001b[38;5;21;01mnp\u001b[39;00m\n\u001b[0;32m      4\u001b[0m \u001b[38;5;66;03m# Membaca data dari CSV\u001b[39;00m\n",
      "\u001b[1;31mModuleNotFoundError\u001b[0m: No module named 'pandas'"
     ]
    }
   ],
   "source": [
    "import pandas as pd\n",
    "import numpy as np\n",
    "\n",
    "# Membaca data dari CSV\n",
    "df = pd.read_csv(\"health.csv\")\n",
    "\n",
    "# Menghilangkan kolom 'Unnamed: 0' jika ada\n",
    "if 'Unnamed: 0' in df.columns:\n",
    "    df = df.drop(columns=['Unnamed: 0'])\n",
    "\n",
    "# Iterasi melalui setiap kolom dan menghasilkan deskripsi statistik\n",
    "for column in df.columns:\n",
    "    col = pd.Series(df[column])\n",
    "    dtype = df[column].dtype\n",
    "    print(f\"Descriptive Statistics for column: {column}\")\n",
    "    \n",
    "    if dtype != \"object\":\n",
    "        # Data numerik\n",
    "        print(\"Mean: \", round(col.mean(), 3))\n",
    "        print(\"Median: \", round(col.median(), 3))\n",
    "        print(\"Mode: \", [round(val, 3) for val in col.mode().values])\n",
    "        print(\"Standard Deviation: \", round(col.std(), 3))\n",
    "        print(\"Variance: \", round(col.var(), 3))\n",
    "        print(\"Range: \", round(col.max() - col.min(), 3))\n",
    "        print(\"Minimum: \", round(col.min(), 3))\n",
    "        print(\"Maximum: \", round(col.max(), 3))\n",
    "        print(\"25th Percentile (Q1): \", round(col.quantile(0.25), 3))\n",
    "        print(\"75th Percentile (Q3): \", round(col.quantile(0.75), 3))\n",
    "        print(\"Interquartile Range (IQR): \", round(col.quantile(0.75) - col.quantile(0.25), 3))\n",
    "        print(\"Skewness: \", round(col.skew(), 3))\n",
    "        print(\"Kurtosis: \", round(col.kurtosis(), 3))\n",
    "    else:\n",
    "        # Data non-numerik (string)\n",
    "        print(\"Unique Values: \", col.unique())\n",
    "        print(\"Value Counts: \")\n",
    "        print(col.value_counts(normalize=True).round(3))\n",
    "\n",
    "    print(\"\\n\" + \"-\"*50 + \"\\n\")\n"
   ]
  }
 ],
 "metadata": {
  "kernelspec": {
   "display_name": "Python 3",
   "language": "python",
   "name": "python3"
  },
  "language_info": {
   "name": "python",
   "version": "3.12.0"
  }
 },
 "nbformat": 4,
 "nbformat_minor": 2
}
